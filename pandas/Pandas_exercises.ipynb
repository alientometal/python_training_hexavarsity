{
 "cells": [
  {
   "attachments": {},
   "cell_type": "markdown",
   "metadata": {},
   "source": [
    "# Exercises"
   ]
  },
  {
   "attachments": {},
   "cell_type": "markdown",
   "metadata": {},
   "source": [
    "Exercises you can try with Pandas DataFrames and Series:\n",
    "\n",
    "1. Load a CSV file into a Pandas DataFrame and display the first 5 rows.\n",
    "2. Filter the DataFrame to only show rows where a certain column meets a specific condition.\n",
    "3. Create a new column in the DataFrame that is calculated as a combination of two existing columns.\n",
    "4. Group the DataFrame by a certain column and aggregate the data using a function like sum or mean.\n",
    "5. Merge two DataFrames together based on a common column.\n",
    "6. Use the Pandas Series to extract data from a DataFrame based on a condition.\n",
    "7. Perform statistical analysis on a DataFrame by calculating the mean, median, and standard deviation of a specific column.\n",
    "8.  Reshape a DataFrame using functions like melt and pivot.\n",
    "9.  Clean data in a DataFrame by removing null values or replacing them with a default value.\n",
    "10. Use Pandas to visualize data in a DataFrame with functions like plot and hist."
   ]
  },
  {
   "attachments": {},
   "cell_type": "markdown",
   "metadata": {},
   "source": [
    "\n",
    "Exercises with Pandas using Descriptive Statistics:\n",
    "\n",
    "1. Load a dataset into a Pandas DataFrame and calculate the mean, median, and mode for each column.\n",
    "2. Load a dataset into a Pandas DataFrame and calculate the range, variance, and standard deviation for each column.\n",
    "3. Load a dataset into a Pandas DataFrame and use the `describe()` function to get summary statistics for each column.\n",
    "4. Load a dataset into a Pandas DataFrame and calculate the correlation coefficient between each pair of columns.\n",
    "5. Load a dataset into a Pandas DataFrame and use `groupby()` to group the data by a categorical variable, and then calculate the mean, median, and mode for each group.\n",
    "6. Load a dataset into a Pandas DataFrame and use pivot tables to calculate the mean, median, and mode for each combination of two categorical variables.\n",
    "7. Load a dataset into a Pandas DataFrame and use the `quantile()` function to calculate the 10th, 50th, and 90th percentiles for each column.\n",
    "8. Load a dataset into a Pandas DataFrame and use the `skew()` and `kurtosis()` functions to calculate the skewness and kurtosis for each column.\n",
    "9. Load a dataset into a Pandas DataFrame and use the `value_counts()` function to count the frequency of each value in a column.\n",
    "10. Load a dataset into a Pandas DataFrame and use the `cut()` function to bin a continuous variable into discrete categories, and then use `groupby()` to calculate the mean, median, and mode for each group."
   ]
  },
  {
   "attachments": {},
   "cell_type": "markdown",
   "metadata": {},
   "source": [
    "> Content created by [**Carlos Cruz-Maldonado**](https://www.linkedin.com/in/carloscruzmaldonado/).  \n",
    "> I am available to answer any questions or provide further assistance.   \n",
    "> Feel free to reach out to me at any time.  "
   ]
  }
 ],
 "metadata": {
  "language_info": {
   "name": "python"
  },
  "orig_nbformat": 4
 },
 "nbformat": 4,
 "nbformat_minor": 2
}
