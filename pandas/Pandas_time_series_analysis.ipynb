{
 "cells": [
  {
   "attachments": {},
   "cell_type": "markdown",
   "metadata": {},
   "source": [
    "## Time Series Analysis\n",
    "Pandas Time Series analysis tools are powerful, flexible, and easy to use.\n",
    "\n",
    "The main data structures for time series data in Pandas are:\n",
    "\n",
    "* Timestamp - represents a single timestamp (e.g., a specific date and time).\n",
    "* DatetimeIndex - a collection of timestamps that form an index for time series data.\n",
    "* Period - represents a single time span (e.g., a month, a quarter, a year).\n",
    "* PeriodIndex - a collection of time spans forming an index for time series data.\n",
    "* Timedelta - represents a duration or an amount of time.\n",
    "* TimedeltaIndex - a collection of time durations forming an index for time series data.\n",
    "\n",
    "Pandas provides many functions to work with time series data, including:\n",
    "\n",
    "* `Resampling` - changing the frequency of the time series data.\n",
    "* `Shifting` - moving data forward or backward in time.\n",
    "* `Rolling` - computing rolling statistics (e.g., rolling mean, rolling standard deviation).\n",
    "* `Time zone handling` - converting data to and from different time zones.\n",
    "* `Time series visualization` - creating plots and visualizations of time series data.\n",
    "\n",
    "Some examples of Pandas Time Series analysis include:\n",
    "\n",
    "* Resampling daily stock data to monthly data.\n",
    "* Computing a rolling average of temperature data.\n",
    "* Shifting a time series by one month to analyze seasonality.\n",
    "* Converting time series data to a different time zone.\n",
    "* Creating time series visualizations to analyze trends and patterns over time."
   ]
  },
  {
   "attachments": {},
   "cell_type": "markdown",
   "metadata": {},
   "source": [
    "## Resampling time series data\n",
    "You can resample time series data to a different frequency, such as aggregating daily data into weekly or monthly data.  \n",
    "For example, you can use the `resample()` method to resample daily data to monthly data:"
   ]
  },
  {
   "cell_type": "code",
   "execution_count": null,
   "metadata": {},
   "outputs": [],
   "source": [
    "import pandas as pd\n",
    "import numpy as np\n",
    "import matplotlib.pyplot as plt\n",
    "\n",
    "np.random.seed(42)\n",
    "\n",
    "# Create a time series with daily data\n",
    "dates = pd.date_range('2022-01-01', periods=365, freq='D')\n",
    "ts = pd.Series(np.random.randn(len(dates)), index=dates)\n",
    "\n",
    "# Resample to monthly data\n",
    "ts_monthly = ts.resample('M').mean()"
   ]
  },
  {
   "cell_type": "code",
   "execution_count": null,
   "metadata": {},
   "outputs": [],
   "source": [
    "print(ts.head())\n",
    "ts.plot()\n",
    "plt.show()"
   ]
  },
  {
   "cell_type": "code",
   "execution_count": null,
   "metadata": {},
   "outputs": [],
   "source": [
    "print(ts_monthly.head())\n",
    "ts_monthly.plot()\n",
    "plt.show()"
   ]
  },
  {
   "attachments": {},
   "cell_type": "markdown",
   "metadata": {},
   "source": [
    "## Shifting time series data\n",
    "You can shift time series data forward or backward in time, which can be useful for calculating changes over time.   \n",
    "For example, you can use the `shift()` method to calculate the percentage change in a time series:"
   ]
  },
  {
   "cell_type": "code",
   "execution_count": null,
   "metadata": {},
   "outputs": [],
   "source": [
    "# Calculate the percentage change in the time series\n",
    "ts_pct_change = ts.pct_change().shift(-1)\n",
    "\n",
    "print(ts_pct_change.head())\n",
    "ts_pct_change.plot()\n",
    "plt.show()"
   ]
  },
  {
   "attachments": {},
   "cell_type": "markdown",
   "metadata": {},
   "source": [
    "## Rolling window calculations\n",
    "You can perform rolling window calculations on time series data, such as calculating rolling means or standard deviations.  \n",
    "For example, you can use the `rolling()` method to calculate a rolling mean over a 30-day window:"
   ]
  },
  {
   "cell_type": "code",
   "execution_count": null,
   "metadata": {},
   "outputs": [],
   "source": [
    "# Calculate a rolling 30-day mean\n",
    "ts_rolling_mean = ts.rolling(window=30).mean()\n",
    "\n",
    "print(ts_rolling_mean.head())\n",
    "ts_rolling_mean.plot()\n",
    "plt.show()"
   ]
  },
  {
   "attachments": {},
   "cell_type": "markdown",
   "metadata": {},
   "source": [
    "## Time-based indexing and selection\n",
    "You can use time-based indexing and selection to extract specific time periods from a time series.  \n",
    "For example, you can use the `loc[]` operator to select data for a specific date range:"
   ]
  },
  {
   "cell_type": "code",
   "execution_count": null,
   "metadata": {},
   "outputs": [],
   "source": [
    "# Select data for a specific date range\n",
    "ts_subset = ts.loc['2022-01-01':'2022-01-31']\n",
    "\n",
    "print(ts_subset.head())\n",
    "ts_subset.plot()\n",
    "plt.show()"
   ]
  },
  {
   "attachments": {},
   "cell_type": "markdown",
   "metadata": {},
   "source": [
    "## Time zone handling\n",
    "You can handle time zones in Pandas, including converting between time zones and handling daylight saving time.  \n",
    "For example, you can use the `tz_convert()` method to convert a time series to a different time zone:"
   ]
  },
  {
   "cell_type": "code",
   "execution_count": null,
   "metadata": {},
   "outputs": [],
   "source": [
    "# Convert time series to a different time zone\n",
    "ts_utc = ts.tz_localize('UTC')\n",
    "ts_new_york = ts_utc.tz_convert('America/New_York')"
   ]
  },
  {
   "cell_type": "code",
   "execution_count": null,
   "metadata": {},
   "outputs": [],
   "source": [
    "ts_utc.head()"
   ]
  },
  {
   "cell_type": "code",
   "execution_count": null,
   "metadata": {},
   "outputs": [],
   "source": [
    "ts_new_york.head()"
   ]
  },
  {
   "attachments": {},
   "cell_type": "markdown",
   "metadata": {},
   "source": [
    "> Content created by [**Carlos Cruz-Maldonado**](https://www.linkedin.com/in/carloscruzmaldonado/).  \n",
    "> I am available to answer any questions or provide further assistance.   \n",
    "> Feel free to reach out to me at any time.  "
   ]
  }
 ],
 "metadata": {
  "kernelspec": {
   "display_name": "myenv",
   "language": "python",
   "name": "python3"
  },
  "language_info": {
   "codemirror_mode": {
    "name": "ipython",
    "version": 3
   },
   "file_extension": ".py",
   "mimetype": "text/x-python",
   "name": "python",
   "nbconvert_exporter": "python",
   "pygments_lexer": "ipython3",
   "version": "3.8.16"
  },
  "orig_nbformat": 4
 },
 "nbformat": 4,
 "nbformat_minor": 2
}
