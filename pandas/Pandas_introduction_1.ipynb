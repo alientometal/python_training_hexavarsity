{
 "cells": [
  {
   "attachments": {},
   "cell_type": "markdown",
   "metadata": {},
   "source": [
    "# Data Manipulation and Data Cleaning with Pandas"
   ]
  },
  {
   "cell_type": "code",
   "execution_count": null,
   "metadata": {},
   "outputs": [],
   "source": [
    "import pandas as pd\n",
    "\n",
    "df = pd.DataFrame({\n",
    "    'name': ['Alice', 'Bob', 'Charlie', 'Bastian', 'Ella', 'Jaco'],\n",
    "    'age': [7, 83, 34, 12, 79, 35],\n",
    "    'gender': ['F', 'M', 'M', 'M', 'F', 'M'],\n",
    "    'city': ['Oxfordshire', 'Marshall', 'Kansas City', 'De Forest', 'Newport News', 'Norristown']\n",
    "})"
   ]
  },
  {
   "attachments": {},
   "cell_type": "markdown",
   "metadata": {},
   "source": [
    "## Filtering Rows \n",
    "You can filter rows based on specific conditions using boolean indexing. "
   ]
  },
  {
   "cell_type": "code",
   "execution_count": null,
   "metadata": {},
   "outputs": [],
   "source": [
    "df_filtered = df[df['age'] > 30]\n",
    "print(df_filtered)"
   ]
  },
  {
   "attachments": {},
   "cell_type": "markdown",
   "metadata": {},
   "source": [
    "## Dropping Rows and Columns\n",
    "You can drop rows and columns from a DataFrame using the `drop()` method. "
   ]
  },
  {
   "cell_type": "code",
   "execution_count": null,
   "metadata": {},
   "outputs": [],
   "source": [
    "df_dropped = df.drop('city', axis=1)\n",
    "print(df_dropped)"
   ]
  },
  {
   "attachments": {},
   "cell_type": "markdown",
   "metadata": {},
   "source": [
    "To drop rows based on specific conditions, you can use boolean indexing with negation."
   ]
  },
  {
   "cell_type": "code",
   "execution_count": null,
   "metadata": {},
   "outputs": [],
   "source": [
    "df_dropped = df[~(df['age'] <= 30)]\n",
    "print(df_dropped)"
   ]
  },
  {
   "attachments": {},
   "cell_type": "markdown",
   "metadata": {},
   "source": [
    "## Renaming Columns\n",
    "You can rename columns in a DataFrame using the `rename()` method."
   ]
  },
  {
   "cell_type": "code",
   "execution_count": null,
   "metadata": {},
   "outputs": [],
   "source": [
    "df_renamed = df.rename(columns={'age': 'years'})\n",
    "print(df_renamed)"
   ]
  },
  {
   "attachments": {},
   "cell_type": "markdown",
   "metadata": {},
   "source": [
    "## Handling Missing Data\n",
    "You can handle missing data in a DataFrame using the `fillna()` method. "
   ]
  },
  {
   "cell_type": "code",
   "execution_count": null,
   "metadata": {},
   "outputs": [],
   "source": [
    "# create a dataframe with missing values\n",
    "new_record = pd.Series({\"name\":\"Ash\", \"gender\":\"M\", \"city\":\"Pallet Town\"})\n",
    "df_filled = pd.concat([df, new_record.to_frame().T], ignore_index=True)\n",
    "\n",
    "df_filled['age'].fillna(df_filled['age'].mean(), inplace=True)\n",
    "df_filled['age'] = df_filled['age'].astype('int')\n",
    "print(df_filled)"
   ]
  },
  {
   "cell_type": "code",
   "execution_count": null,
   "metadata": {},
   "outputs": [],
   "source": [
    "import numpy as np\n",
    "\n",
    "# create a dataframe with missing values\n",
    "df['salary'] = [np.nan, 200, 300, np.nan, 500, 600]\n",
    "new_record = pd.Series({\"name\":\"Misty\", \"gender\":\"F\", \"city\":\"Cerulean City\"})\n",
    "\n",
    "df = pd.concat([df, new_record.to_frame().T], ignore_index=True)\n",
    "\n",
    "df\n"
   ]
  },
  {
   "cell_type": "code",
   "execution_count": null,
   "metadata": {},
   "outputs": [],
   "source": [
    "# check for missing values\n",
    "df.isnull()"
   ]
  },
  {
   "cell_type": "code",
   "execution_count": null,
   "metadata": {},
   "outputs": [],
   "source": [
    "# fill missing values with a specific value\n",
    "df[\"salary\"].fillna(0, inplace=True)\n",
    "df"
   ]
  },
  {
   "cell_type": "code",
   "execution_count": null,
   "metadata": {},
   "outputs": [],
   "source": [
    "# drop rows with missing values\n",
    "df.dropna(inplace=True)\n",
    "df"
   ]
  },
  {
   "attachments": {},
   "cell_type": "markdown",
   "metadata": {},
   "source": [
    "## Removing duplicates"
   ]
  },
  {
   "cell_type": "code",
   "execution_count": null,
   "metadata": {},
   "outputs": [],
   "source": [
    "# create a dataframe with duplicate rows\n",
    "df = pd.concat([df, df.iloc[4].to_frame().T], ignore_index=True)\n",
    "\n",
    "# check for duplicate rows\n",
    "print(df.duplicated())\n",
    "\n",
    "print(df)\n",
    "# drop duplicate rows\n",
    "df.drop_duplicates(inplace=True)\n",
    "\n",
    "df"
   ]
  },
  {
   "attachments": {},
   "cell_type": "markdown",
   "metadata": {},
   "source": [
    "# Data Transformation  \n",
    "Beyond basic operations, you might need to reshape or aggregate your data in more complex ways:"
   ]
  },
  {
   "attachments": {},
   "cell_type": "markdown",
   "metadata": {},
   "source": [
    "## Converting data types"
   ]
  },
  {
   "cell_type": "code",
   "execution_count": null,
   "metadata": {},
   "outputs": [],
   "source": [
    "# check data types\n",
    "print(df.dtypes)\n",
    "\n",
    "# convert data types\n",
    "df['age'] = df['age'].astype(int)\n",
    "df['salary'] = pd.to_numeric(df['salary'])\n",
    "\n",
    "# check data types again\n",
    "print(df.dtypes)"
   ]
  },
  {
   "cell_type": "code",
   "execution_count": null,
   "metadata": {},
   "outputs": [],
   "source": [
    "# Apply a function to a column\n",
    "df['age'] = df['age'].apply(lambda x: x + 1)\n",
    "print(df)"
   ]
  },
  {
   "attachments": {},
   "cell_type": "markdown",
   "metadata": {},
   "source": [
    "## Grouping data\n",
    "In Python, `groupby` is a method in the Pandas library that is used to group data in a Pandas DataFrame based on one or more columns. It is similar to the SQL GROUP BY statement.\n",
    "\n",
    "The `groupby` method is used to group data by one or more columns, creating a DataFrameGroupBy object. The object can be used to perform aggregation operations, such as sum, mean, min, and max, on the grouped data."
   ]
  },
  {
   "cell_type": "code",
   "execution_count": null,
   "metadata": {},
   "outputs": [],
   "source": [
    "df_grouped = df.groupby('gender').mean()['age']\n",
    "print(df_grouped)"
   ]
  },
  {
   "cell_type": "code",
   "execution_count": null,
   "metadata": {},
   "outputs": [],
   "source": [
    "# create a sample DataFrame\n",
    "df = pd.DataFrame({\n",
    "    'Category': ['A', 'B', 'C', 'A', 'B', 'C'],\n",
    "    'Value': [1, 2, 3, 4, 5, 6]\n",
    "})\n",
    "\n",
    "# group the DataFrame by the 'Category' column\n",
    "grouped_df = df.groupby('Category')\n",
    "\n",
    "# calculate the mean value for each group\n",
    "mean_values = grouped_df.mean()\n",
    "\n",
    "# display the mean values for each group\n",
    "print(mean_values)"
   ]
  },
  {
   "attachments": {},
   "cell_type": "markdown",
   "metadata": {},
   "source": [
    "In this example, we created a DataFrame with two columns, 'Category' and 'Value', and then grouped the data by the 'Category' column using the `groupby` method. We then calculated the mean value for each group using the `mean` method, which returns a new DataFrame with the mean values for each group."
   ]
  },
  {
   "attachments": {},
   "cell_type": "markdown",
   "metadata": {},
   "source": [
    "## Merging and Joining data\n",
    "Merging and joining are ways to combine different data frames based on common columns or indices. The key difference between merging and joining is the way the two data frames are combined.\n",
    "\n",
    "Merging combines two data frames based on the values of specified columns. If the two data frames share a common column, merging can be performed based on that column. Otherwise, merging can be done based on multiple columns.\n",
    "\n",
    "Joining, on the other hand, combines two data frames based on their indices.  \n",
    "\n",
    "There are four types of joins in Pandas:\n",
    "\n",
    "* **Inner join**: returns only the rows with matching indices in both data frames.\n",
    "* **Left join**: returns all the rows from the left data frame and the matching rows from the right data frame.\n",
    "* **Right join**: returns all the rows from the right data frame and the matching rows from the left data frame.\n",
    "* **Outer join**: returns all the rows from both data frames.\n",
    "\n",
    "Pandas functions for merging and joining data frames, are `merge()`, `join()`, and `concat()`. These functions have different parameters for specifying the type of merge or join to perform, the columns or indices to merge on or join on, and the method of handling missing values."
   ]
  },
  {
   "cell_type": "code",
   "execution_count": null,
   "metadata": {},
   "outputs": [],
   "source": [
    "# create first dataframe\n",
    "df1 = pd.DataFrame({'key': ['A', 'B', 'C', 'D'],\n",
    "                    'value': [1, 2, 3, 4]}, \n",
    "                   index=[0, 1, 2, 3])\n",
    "\n",
    "# create second dataframe\n",
    "df2 = pd.DataFrame({'key': ['C', 'D', 'E', 'F'],\n",
    "                    'value': [5, 6, 7, 8]}, \n",
    "                   index=[4, 5, 6, 7])\n"
   ]
  },
  {
   "cell_type": "code",
   "execution_count": null,
   "metadata": {},
   "outputs": [],
   "source": [
    "# perform inner join on 'key' column\n",
    "inner_join_columns = pd.merge(df1, df2, on='key', how='inner')\n",
    "\n",
    "print(inner_join_columns)"
   ]
  },
  {
   "cell_type": "code",
   "execution_count": null,
   "metadata": {},
   "outputs": [],
   "source": [
    "# perform inner join on rows\n",
    "inner_join_rows = df1.join(df2, lsuffix='_left', rsuffix='_right', how='inner')\n",
    "\n",
    "print(inner_join_rows)"
   ]
  },
  {
   "cell_type": "code",
   "execution_count": null,
   "metadata": {},
   "outputs": [],
   "source": [
    "# perform left join on 'key' column\n",
    "left_join_columns = pd.merge(df1, df2, on='key', how='left')\n",
    "\n",
    "print(left_join_columns)"
   ]
  },
  {
   "cell_type": "code",
   "execution_count": null,
   "metadata": {},
   "outputs": [],
   "source": [
    "# perform left join on rows\n",
    "left_join_rows = df1.join(df2, lsuffix='_left', rsuffix='_right', how='left')\n",
    "\n",
    "print(left_join_rows)"
   ]
  },
  {
   "cell_type": "code",
   "execution_count": null,
   "metadata": {},
   "outputs": [],
   "source": [
    "# perform right join on 'key' column\n",
    "right_join_columns = pd.merge(df1, df2, on='key', how='right')\n",
    "\n",
    "print(right_join_columns)"
   ]
  },
  {
   "cell_type": "code",
   "execution_count": null,
   "metadata": {},
   "outputs": [],
   "source": [
    "# perform right join on rows\n",
    "right_join_rows = df1.join(df2, lsuffix='_left', rsuffix='_right', how='right')\n",
    "\n",
    "print(right_join_rows)"
   ]
  },
  {
   "cell_type": "code",
   "execution_count": null,
   "metadata": {},
   "outputs": [],
   "source": [
    "# perform outer join on 'key' column\n",
    "outer_join_columns = pd.merge(df1, df2, on='key', how='outer')\n",
    "\n",
    "print(outer_join_columns)"
   ]
  },
  {
   "cell_type": "code",
   "execution_count": null,
   "metadata": {},
   "outputs": [],
   "source": [
    "# perform outer join on rows\n",
    "outer_join_rows = df1.join(df2, lsuffix='_left', rsuffix='_right', how='outer')\n",
    "\n",
    "print(outer_join_rows)"
   ]
  },
  {
   "attachments": {},
   "cell_type": "markdown",
   "metadata": {},
   "source": [
    "# Pivoting and Reshaping data\n",
    "\n",
    "Pivoting and reshaping data refer to the process of transforming data from its original form to a more structured and organized form that is easier to analyze.\n",
    "\n",
    "**Pivoting** refers to the process of reorganizing a dataframe so that the values of one column become the column headers, while the values in another column become the row indices. This can be useful for creating summary tables and reports.\n",
    "\n",
    "**Reshaping**, on the other hand, refers to the process of changing the structure of a dataframe by rearranging its rows and columns. This can be useful for aggregating data and performing more complex data analysis.\n",
    "\n",
    "Pandas provides several functions for pivoting and reshaping data, including `pivot()`, `melt()`, `stack()`, `unstack()`, `pivot_table()`, and `transpose()`. These functions allow you to manipulate dataframes in various ways to suit your analysis needs."
   ]
  },
  {
   "attachments": {},
   "cell_type": "markdown",
   "metadata": {},
   "source": [
    "**Note:**  \n",
    "**\"wide\"** format and a **\"long\"** format of data. In a **wide format**, a DataFrame has multiple columns for different variables, while in a **long format**, the same variables are stacked in a single column and identified by a second column of labels."
   ]
  },
  {
   "attachments": {},
   "cell_type": "markdown",
   "metadata": {},
   "source": [
    "### Pivot\n",
    "For example, you can use the `pivot()` function to transform a long-form dataframe into a wide-form dataframe by specifying the columns to use as row and column labels and the values to use for populating the cells:"
   ]
  },
  {
   "cell_type": "code",
   "execution_count": null,
   "metadata": {},
   "outputs": [],
   "source": [
    "# create a long-form dataframe\n",
    "df_long = pd.DataFrame({'Year': [2010, 2010, 2011, 2011],\n",
    "                        'Quarter': ['Q1', 'Q2', 'Q1', 'Q2'],\n",
    "                        'Sales': [100, 200, 150, 250]})\n",
    "\n",
    "# pivot the dataframe to wide format\n",
    "df_wide_pivot = df_long.pivot(index='Year', columns='Quarter', values='Sales')"
   ]
  },
  {
   "cell_type": "code",
   "execution_count": null,
   "metadata": {},
   "outputs": [],
   "source": [
    "df_long"
   ]
  },
  {
   "cell_type": "code",
   "execution_count": null,
   "metadata": {},
   "outputs": [],
   "source": [
    "df_wide_pivot"
   ]
  },
  {
   "attachments": {},
   "cell_type": "markdown",
   "metadata": {},
   "source": [
    "In this example, the `pivot()` function is used to pivot the `df_long` dataframe into a `df_wide` dataframe with the years as row labels, quarters as column labels, and sales values as cell values."
   ]
  },
  {
   "attachments": {},
   "cell_type": "markdown",
   "metadata": {},
   "source": [
    "### Melt\n",
    "Similarly, you can use the `melt()` function to transform a wide-form dataframe into a long-form dataframe by specifying the columns to use as id variables and the columns to use as value variables:"
   ]
  },
  {
   "cell_type": "code",
   "execution_count": null,
   "metadata": {},
   "outputs": [],
   "source": [
    "df_wide_1 = df_wide_pivot.reset_index()\n",
    "\n",
    "df_wide_1"
   ]
  },
  {
   "cell_type": "code",
   "execution_count": null,
   "metadata": {},
   "outputs": [],
   "source": [
    "# melt the dataframe to long format\n",
    "df_long_melt = pd.melt(df_wide_1, id_vars=['Year'], var_name='Quarter', value_name='Sales')\n",
    "\n",
    "df_long_melt"
   ]
  },
  {
   "attachments": {},
   "cell_type": "markdown",
   "metadata": {},
   "source": [
    "In this example, the `melt()` function is used to melt the `df_wide` dataframe into a `df_long` dataframe with the years and quarters as id variables, and sales as the value variable."
   ]
  },
  {
   "attachments": {},
   "cell_type": "markdown",
   "metadata": {},
   "source": [
    "### Stacking and Unstacking\n",
    "The `stack()` operation pivots a level of the level of column labels into row labels/index, creating a multi-level index. The `unstack()` operation does the opposite, pivoting a level of row labels/index into column labels.\n",
    "\n",
    "if we have a DataFrame with two columns, A and B, and two index levels, 1 and 2, calling stack() will result in a new DataFrame with three index levels (1, 2, and a new level created from the column labels), and one column that contains the stacked data."
   ]
  },
  {
   "cell_type": "code",
   "execution_count": null,
   "metadata": {},
   "outputs": [],
   "source": [
    "df = pd.DataFrame({'A': [1, 2, 3], 'B': [4, 5, 6]}, \n",
    "                  index=pd.MultiIndex.from_tuples([(1, 'a'), (2, 'b'), (3, 'c')], \n",
    "                    names=['level_1', 'level_2']))\n",
    "df"
   ]
  },
  {
   "cell_type": "code",
   "execution_count": null,
   "metadata": {},
   "outputs": [],
   "source": [
    "stacked = df.stack()\n",
    "stacked.to_frame()"
   ]
  },
  {
   "cell_type": "code",
   "execution_count": null,
   "metadata": {},
   "outputs": [],
   "source": [
    "unstacked = stacked.unstack()\n",
    "unstacked"
   ]
  },
  {
   "attachments": {},
   "cell_type": "markdown",
   "metadata": {},
   "source": [
    "### Pivot Table  \n",
    "The `pivot_table()` function is used to summarize and aggregate data in a DataFrame. It takes several arguments, including `values`, which specifies the column to aggregate, `index`, which specifies the column(s) or index level(s) to group by, and `columns`, which specifies the column(s) or index level(s) to pivot. Then, creates a new DataFrame by aggregating data based on one or more columns and/or index levels."
   ]
  },
  {
   "cell_type": "code",
   "execution_count": null,
   "metadata": {},
   "outputs": [],
   "source": [
    "df = pd.DataFrame({'A': [1, 2, 3, 1, 2, 3], 'B': [4, 5, 6, 7, 8, 9], 'C': ['x', 'y', 'z', 'x', 'y', 'z']})\n",
    "df"
   ]
  },
  {
   "cell_type": "code",
   "execution_count": null,
   "metadata": {},
   "outputs": [],
   "source": [
    "pivot = df.pivot_table(values='B', index='A', columns='C', aggfunc='sum')\n",
    "pivot"
   ]
  },
  {
   "attachments": {},
   "cell_type": "markdown",
   "metadata": {},
   "source": [
    "### Transposing\n",
    "Transposing a DataFrame means interchanging rows and columns. This operation is useful to change the shape of the DataFrame to better suit a particular analysis or visualization."
   ]
  },
  {
   "cell_type": "code",
   "execution_count": null,
   "metadata": {},
   "outputs": [],
   "source": [
    "df = pd.DataFrame({'A': [1, 2, 3], 'B': [4, 5, 6]})\n",
    "\n",
    "df"
   ]
  },
  {
   "cell_type": "code",
   "execution_count": null,
   "metadata": {},
   "outputs": [],
   "source": [
    "transposed = df.transpose()\n",
    "\n",
    "transposed"
   ]
  },
  {
   "attachments": {},
   "cell_type": "markdown",
   "metadata": {},
   "source": [
    "> Content created by [**Carlos Cruz-Maldonado**](https://www.linkedin.com/in/carloscruzmaldonado/).  \n",
    "> I am available to answer any questions or provide further assistance.   \n",
    "> Feel free to reach out to me at any time.  "
   ]
  }
 ],
 "metadata": {
  "kernelspec": {
   "display_name": "personal",
   "language": "python",
   "name": "python3"
  },
  "language_info": {
   "codemirror_mode": {
    "name": "ipython",
    "version": 3
   },
   "file_extension": ".py",
   "mimetype": "text/x-python",
   "name": "python",
   "nbconvert_exporter": "python",
   "pygments_lexer": "ipython3",
   "version": "3.7.9"
  },
  "orig_nbformat": 4
 },
 "nbformat": 4,
 "nbformat_minor": 2
}
