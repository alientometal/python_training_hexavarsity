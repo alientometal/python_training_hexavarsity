{
 "cells": [
  {
   "attachments": {},
   "cell_type": "markdown",
   "metadata": {},
   "source": [
    "# Working with missing data\n",
    "\n",
    "Handling missing data is an essential part of data analysis. Missing data can often lead to incorrect conclusions during the analysis. *Missing values propagate through arithmetic operations in NumPy and Pandas unless they are dropped or filled with a value.* In NumPy, missing values can be represented using `np.nan` object, the NumPy representation of `NaN` (Not a Number).\n"
   ]
  },
  {
   "cell_type": "code",
   "execution_count": null,
   "metadata": {},
   "outputs": [],
   "source": [
    "import numpy as np\n",
    "\n",
    "# Let's start by creating a NumPy array with some missing values\n",
    "data = np.array([1, 2, np.nan, 4, 5])\n",
    "print(data)"
   ]
  },
  {
   "attachments": {},
   "cell_type": "markdown",
   "metadata": {},
   "source": [
    "\n",
    "In this array, the third element is a missing value represented as `np.nan`.\n",
    "\n",
    "**Note:** NumPy only supports its NaN objects and throws an error if we pass other null objects to `np.isnan`.\n"
   ]
  },
  {
   "attachments": {},
   "cell_type": "markdown",
   "metadata": {},
   "source": [
    "\n",
    "## Checking for missing values\n",
    "\n",
    "NumPy provides the `isnan()` function, which returns a boolean array that is `True` where the array element is `NaN`.\n"
   ]
  },
  {
   "cell_type": "code",
   "execution_count": null,
   "metadata": {},
   "outputs": [],
   "source": [
    "print(np.isnan(data))"
   ]
  },
  {
   "cell_type": "code",
   "execution_count": null,
   "metadata": {},
   "outputs": [],
   "source": [
    "print(np.isnan(data).any()) # True, since `np.any` function tests whether any array element along a given axis evaluates to True"
   ]
  },
  {
   "attachments": {},
   "cell_type": "markdown",
   "metadata": {},
   "source": [
    "\n",
    "## Handling missing values\n",
    "\n",
    "How you deal with missing values usually depends on the specific situation. One common strategy is simply removing them. However, this can result in loss of information if you have a lot of missing values. Another strategy is filling missing values with a specific value, like the mean or median of the other values in the array, or a constant value like zero.\n"
   ]
  },
  {
   "attachments": {},
   "cell_type": "markdown",
   "metadata": {},
   "source": [
    "\n",
    "*Removing missing values:*\n"
   ]
  },
  {
   "cell_type": "code",
   "execution_count": null,
   "metadata": {},
   "outputs": [],
   "source": [
    "data_without_nan = data[~np.isnan(data)]\n",
    "print(data_without_nan)"
   ]
  },
  {
   "attachments": {},
   "cell_type": "markdown",
   "metadata": {},
   "source": [
    "\n",
    "*Filling missing values with a constant:*\n"
   ]
  },
  {
   "cell_type": "code",
   "execution_count": null,
   "metadata": {},
   "outputs": [],
   "source": [
    "data_with_constant = np.where(np.isnan(data), 0, data)\n",
    "print(data_with_constant)"
   ]
  },
  {
   "attachments": {},
   "cell_type": "markdown",
   "metadata": {},
   "source": [
    "\n",
    "*Filling missing values with the mean:*\n"
   ]
  },
  {
   "cell_type": "code",
   "execution_count": null,
   "metadata": {},
   "outputs": [],
   "source": [
    "data_with_mean = np.where(np.isnan(data), np.nanmean(data), data)\n",
    "print(data_with_mean)"
   ]
  },
  {
   "attachments": {},
   "cell_type": "markdown",
   "metadata": {},
   "source": [
    "\n",
    "**Note:** When performing operations on arrays with `np.nan` values, regular functions like `np.mean` or `np.sum` will return `np.nan` as result. NumPy provides functions like `np.nanmean`, `np.nanstd` and `np.nansum` that ignore `np.nan` values in these operations.\n"
   ]
  },
  {
   "attachments": {},
   "cell_type": "markdown",
   "metadata": {},
   "source": [
    "\n",
    "## Caution with NaN:\n",
    "\n",
    "NaNs are a bit tricky, as they don't compare equal to themselves. So, if you use the equality operator `==` to find NaNs in your array, it won't work as expected. \n",
    "\n",
    "Also, when comparing Python objects that may be NaN there is a difference between `is` and `==`. Remember `is` compares identities of two variables, while `==` compares two variables by checking whether they are equal.\n"
   ]
  },
  {
   "cell_type": "code",
   "execution_count": null,
   "metadata": {},
   "outputs": [],
   "source": [
    "# This won't work!\n",
    "print(data == np.nan)"
   ]
  },
  {
   "attachments": {},
   "cell_type": "markdown",
   "metadata": {},
   "source": [
    "\n",
    "Always use built-in methods like `np.isnan` to check for NaN.\n"
   ]
  },
  {
   "attachments": {},
   "cell_type": "markdown",
   "metadata": {},
   "source": [
    "\n",
    "### Conclusion:\n",
    "\n",
    "NumPy provides various functions to handle missing data like `np.isnan()`, `np.nanmean()`, and `np.nansum()`. How to handle missing values depends on the specific case, and you need to be cautious with NaNs as they don't behave like normal values.\n"
   ]
  },
  {
   "attachments": {},
   "cell_type": "markdown",
   "metadata": {},
   "source": [
    "> Content created by [**Carlos Cruz-Maldonado**](https://www.linkedin.com/in/carloscruzmaldonado/).  \n",
    "> I am available to answer any questions or provide further assistance.   \n",
    "> Feel free to reach out to me at any time."
   ]
  }
 ],
 "metadata": {
  "kernelspec": {
   "display_name": "personal",
   "language": "python",
   "name": "python3"
  },
  "language_info": {
   "codemirror_mode": {
    "name": "ipython",
    "version": 3
   },
   "file_extension": ".py",
   "mimetype": "text/x-python",
   "name": "python",
   "nbconvert_exporter": "python",
   "pygments_lexer": "ipython3",
   "version": "3.7.9"
  },
  "orig_nbformat": 4
 },
 "nbformat": 4,
 "nbformat_minor": 2
}
