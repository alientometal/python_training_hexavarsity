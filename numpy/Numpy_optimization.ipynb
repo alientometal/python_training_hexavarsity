{
 "cells": [
  {
   "attachments": {},
   "cell_type": "markdown",
   "metadata": {},
   "source": [
    "# Vectorization and Broadcasting\n",
    "\n",
    "Two key features that make NumPy particularly useful are vectorization and broadcasting. These features allow us to write code that is efficient both in terms of computing time and memory usage.\n"
   ]
  },
  {
   "cell_type": "code",
   "execution_count": null,
   "metadata": {},
   "outputs": [],
   "source": [
    "import numpy as np"
   ]
  },
  {
   "cell_type": "markdown",
   "metadata": {},
   "source": [
    "## Vectorization\n",
    "\n",
    "Vectorization refers to the technique of performing operations on entire arrays rather than iterating over individual elements.\n",
    "\n",
    "Let's say we have two large arrays, `a` and `b`, and we want to add them element-wise. With pure Python, we'd have to use a loop:\n"
   ]
  },
  {
   "cell_type": "code",
   "execution_count": null,
   "metadata": {},
   "outputs": [],
   "source": [
    "a = list(range(1000000))\n",
    "b = list(range(1000000, 2000000))\n",
    "\n",
    "result = [x+y for x, y in zip(a, b)]"
   ]
  },
  {
   "cell_type": "markdown",
   "metadata": {},
   "source": [
    "\n",
    "With NumPy's vectorization, we can perform the operation directly on the arrays:\n"
   ]
  },
  {
   "cell_type": "code",
   "execution_count": null,
   "metadata": {},
   "outputs": [],
   "source": [
    "a = np.array(a)\n",
    "b = np.array(b)\n",
    "\n",
    "result = a + b"
   ]
  },
  {
   "cell_type": "markdown",
   "metadata": {},
   "source": [
    "\n",
    "Vectorization leverages low-level optimizations and hardware capabilities to carry out bulk operations on data without needing explicit looping, which significantly speeds up computation time.\n"
   ]
  },
  {
   "cell_type": "markdown",
   "metadata": {},
   "source": [
    "\n",
    "## Broadcasting\n",
    "\n",
    "Broadcasting is another powerful mechanism that allows NumPy to work with arrays of different shapes when performing arithmetic operations.\n",
    "\n",
    "Let's say we want to add the number 5 to every element in an array. With broadcasting, we can do this directly:\n"
   ]
  },
  {
   "cell_type": "code",
   "execution_count": null,
   "metadata": {},
   "outputs": [],
   "source": [
    "a = np.array([1, 2, 3, 4, 5])\n",
    "result = a + 5"
   ]
  },
  {
   "cell_type": "markdown",
   "metadata": {},
   "source": [
    "\n",
    "In this example, the scalar `5` is \"broadcast\" across the array `a` to match its shape, and then the operation is performed.\n",
    "\n",
    "Broadcasting becomes especially handy when dealing with multi-dimensional arrays:\n"
   ]
  },
  {
   "cell_type": "code",
   "execution_count": null,
   "metadata": {},
   "outputs": [],
   "source": [
    "a = np.array([[1, 2, 3], [4, 5, 6], [7, 8, 9]])\n",
    "b = np.array([1, 2, 3])\n",
    "\n",
    "result = a + b"
   ]
  },
  {
   "cell_type": "markdown",
   "metadata": {},
   "source": [
    "\n",
    "Here, the one-dimensional array `b` is broadcasted across the two-dimensional array `a` in such a way that it matches `a`'s shape, and then the addition is performed.\n",
    "\n",
    "## Conclusion\n",
    "\n",
    "NumPy's vectorization and broadcasting are powerful features that can drastically speed up computation time and optimize memory usage. By avoiding explicit loops and allowing operations on arrays of different shapes, they make it much easier and more efficient to perform numerical computations on large data sets."
   ]
  },
  {
   "attachments": {},
   "cell_type": "markdown",
   "metadata": {},
   "source": [
    "> Content created by [**Carlos Cruz-Maldonado**](https://www.linkedin.com/in/carloscruzmaldonado/).  \n",
    "> I am available to answer any questions or provide further assistance.   \n",
    "> Feel free to reach out to me at any time.  "
   ]
  }
 ],
 "metadata": {
  "language_info": {
   "name": "python"
  },
  "orig_nbformat": 4
 },
 "nbformat": 4,
 "nbformat_minor": 2
}
