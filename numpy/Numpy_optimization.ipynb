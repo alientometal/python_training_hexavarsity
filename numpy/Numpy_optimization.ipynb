{
 "cells": [
  {
   "attachments": {},
   "cell_type": "markdown",
   "metadata": {},
   "source": [
    "# Vectorization and Broadcasting\n",
    "\n",
    "Two key features that make NumPy particularly useful are vectorization and broadcasting. These features allow us to write code that is efficient both in terms of computing time and memory usage.\n"
   ]
  },
  {
   "cell_type": "code",
   "execution_count": 1,
   "metadata": {},
   "outputs": [],
   "source": [
    "import numpy as np"
   ]
  },
  {
   "cell_type": "markdown",
   "metadata": {},
   "source": [
    "## Vectorization\n",
    "\n",
    "Vectorization refers to the technique of performing operations on entire arrays rather than iterating over individual elements.\n",
    "\n",
    "Let's say we have two large arrays, `a` and `b`, and we want to add them element-wise. With pure Python, we'd have to use a loop:\n"
   ]
  },
  {
   "cell_type": "code",
   "execution_count": 4,
   "metadata": {},
   "outputs": [
    {
     "data": {
      "text/plain": [
       "[1000000, 1000002, 1000004, 1000006, 1000008]"
      ]
     },
     "execution_count": 4,
     "metadata": {},
     "output_type": "execute_result"
    }
   ],
   "source": [
    "a = list(range(1000000))\n",
    "b = list(range(1000000, 2000000))\n",
    "\n",
    "result = [x+y for x, y in zip(a, b)]\n",
    "\n",
    "result[0: 5]"
   ]
  },
  {
   "cell_type": "markdown",
   "metadata": {},
   "source": [
    "\n",
    "With NumPy's vectorization, we can perform the operation directly on the arrays:\n"
   ]
  },
  {
   "cell_type": "code",
   "execution_count": 5,
   "metadata": {},
   "outputs": [
    {
     "data": {
      "text/plain": [
       "array([1000000, 1000002, 1000004, ..., 2999994, 2999996, 2999998])"
      ]
     },
     "execution_count": 5,
     "metadata": {},
     "output_type": "execute_result"
    }
   ],
   "source": [
    "a = np.array(a)\n",
    "b = np.array(b)\n",
    "\n",
    "result = a + b\n",
    "result"
   ]
  },
  {
   "cell_type": "markdown",
   "metadata": {},
   "source": [
    "\n",
    "Vectorization leverages low-level optimizations and hardware capabilities to carry out bulk operations on data without needing explicit looping, which significantly speeds up computation time.\n"
   ]
  },
  {
   "cell_type": "markdown",
   "metadata": {},
   "source": [
    "\n",
    "## Broadcasting\n",
    "\n",
    "Broadcasting is another powerful mechanism that allows NumPy to work with arrays of different shapes when performing arithmetic operations.\n",
    "\n",
    "Let's say we want to add the number 5 to every element in an array. With broadcasting, we can do this directly:\n"
   ]
  },
  {
   "cell_type": "code",
   "execution_count": 6,
   "metadata": {},
   "outputs": [
    {
     "data": {
      "text/plain": [
       "array([ 6,  7,  8,  9, 10])"
      ]
     },
     "execution_count": 6,
     "metadata": {},
     "output_type": "execute_result"
    }
   ],
   "source": [
    "a = np.array([1, 2, 3, 4, 5])\n",
    "result = a + 5\n",
    "result"
   ]
  },
  {
   "cell_type": "markdown",
   "metadata": {},
   "source": [
    "\n",
    "In this example, the scalar `5` is \"broadcast\" across the array `a` to match its shape, and then the operation is performed.\n",
    "\n",
    "Broadcasting becomes especially handy when dealing with multi-dimensional arrays:\n"
   ]
  },
  {
   "cell_type": "code",
   "execution_count": 27,
   "metadata": {},
   "outputs": [
    {
     "data": {
      "text/plain": [
       "array([[ 2,  4,  6],\n",
       "       [ 5,  7,  9],\n",
       "       [ 8, 10, 12]])"
      ]
     },
     "execution_count": 27,
     "metadata": {},
     "output_type": "execute_result"
    }
   ],
   "source": [
    "a = np.array([[1, 2, 3], [4, 5, 6], [7, 8, 9]])\n",
    "b = np.array([1, 2, 3])\n",
    "\n",
    "result = a + b\n",
    "result"
   ]
  },
  {
   "cell_type": "markdown",
   "metadata": {},
   "source": [
    "\n",
    "Here, the one-dimensional array `b` is broadcasted across the two-dimensional array `a` in such a way that it matches `a`'s shape, and then the addition is performed.\n",
    "\n",
    "## Conclusion\n",
    "\n",
    "NumPy's vectorization and broadcasting are powerful features that can drastically speed up computation time and optimize memory usage. By avoiding explicit loops and allowing operations on arrays of different shapes, they make it much easier and more efficient to perform numerical computations on large data sets."
   ]
  },
  {
   "cell_type": "code",
   "execution_count": 17,
   "metadata": {},
   "outputs": [],
   "source": [
    "# Creating dataset with different scales\n",
    "np.random.seed(42) # Seed for reproducibility\n",
    "data = np.random.randint(10, size=(5,3)) * [10, 100, 1000]"
   ]
  },
  {
   "cell_type": "code",
   "execution_count": 19,
   "metadata": {},
   "outputs": [
    {
     "data": {
      "text/plain": [
       "array([[  60,  300, 7000],\n",
       "       [  40,  600, 9000],\n",
       "       [  20,  600, 7000],\n",
       "       [  40,  300, 7000],\n",
       "       [  70,  200, 5000]])"
      ]
     },
     "execution_count": 19,
     "metadata": {},
     "output_type": "execute_result"
    }
   ],
   "source": [
    "data"
   ]
  },
  {
   "cell_type": "markdown",
   "metadata": {},
   "source": [
    "$$z=\\frac{x-\\hat{x}}{\\sigma}$$"
   ]
  },
  {
   "cell_type": "code",
   "execution_count": 23,
   "metadata": {},
   "outputs": [],
   "source": [
    "means = np.mean(data, axis=0)\n",
    "std_devs = np.std(data, axis=0)\n",
    "normalized_data = (data - means) / std_devs"
   ]
  },
  {
   "cell_type": "code",
   "execution_count": 24,
   "metadata": {},
   "outputs": [
    {
     "data": {
      "text/plain": [
       "array([[ 0.80295507, -0.5976143 ,  0.        ],\n",
       "       [-0.3441236 ,  1.19522861,  1.58113883],\n",
       "       [-1.49120227,  1.19522861,  0.        ],\n",
       "       [-0.3441236 , -0.5976143 ,  0.        ],\n",
       "       [ 1.3764944 , -1.19522861, -1.58113883]])"
      ]
     },
     "execution_count": 24,
     "metadata": {},
     "output_type": "execute_result"
    }
   ],
   "source": [
    "normalized_data"
   ]
  },
  {
   "attachments": {},
   "cell_type": "markdown",
   "metadata": {},
   "source": [
    "> Content created by [**Carlos Cruz-Maldonado**](https://www.linkedin.com/in/carloscruzmaldonado/).  \n",
    "> I am available to answer any questions or provide further assistance.   \n",
    "> Feel free to reach out to me at any time.  "
   ]
  }
 ],
 "metadata": {
  "kernelspec": {
   "display_name": "myenv",
   "language": "python",
   "name": "python3"
  },
  "language_info": {
   "codemirror_mode": {
    "name": "ipython",
    "version": 3
   },
   "file_extension": ".py",
   "mimetype": "text/x-python",
   "name": "python",
   "nbconvert_exporter": "python",
   "pygments_lexer": "ipython3",
   "version": "3.8.16"
  },
  "orig_nbformat": 4
 },
 "nbformat": 4,
 "nbformat_minor": 2
}
