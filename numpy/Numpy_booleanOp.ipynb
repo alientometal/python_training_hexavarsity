{
 "cells": [
  {
   "attachments": {},
   "cell_type": "markdown",
   "metadata": {},
   "source": [
    "# Set Operations in NumPy\n",
    "\n",
    "In NumPy, set operations are commonly used when working with arrays of data. Just like mathematical set operations, the purpose is to find elements that share some sort of relationship. Here, I'll guide you through some of the most commonly used set operations in NumPy.\n"
   ]
  },
  {
   "cell_type": "code",
   "execution_count": 1,
   "metadata": {},
   "outputs": [],
   "source": [
    "import numpy as np"
   ]
  },
  {
   "cell_type": "markdown",
   "metadata": {},
   "source": [
    "\n",
    "## np.unique()\n",
    "\n",
    "The `np.unique()` function returns the sorted unique elements of an array. This is a great way to identify all unique elements within your data.\n"
   ]
  },
  {
   "cell_type": "code",
   "execution_count": 2,
   "metadata": {},
   "outputs": [
    {
     "name": "stdout",
     "output_type": "stream",
     "text": [
      "[1 2 3 4 5]\n"
     ]
    }
   ],
   "source": [
    "# Defining the array\n",
    "arr = np.array([1, 1, 2, 2, 3, 3, 4, 4, 5, 5])\n",
    "\n",
    "# Using np.unique()\n",
    "unique = np.unique(arr)\n",
    "print(unique)"
   ]
  },
  {
   "cell_type": "markdown",
   "metadata": {},
   "source": [
    "\n",
    "## np.intersect1d()\n",
    "\n",
    "The `np.intersect1d()` function returns the sorted, common elements in two or more arrays.\n"
   ]
  },
  {
   "cell_type": "code",
   "execution_count": 3,
   "metadata": {},
   "outputs": [
    {
     "name": "stdout",
     "output_type": "stream",
     "text": [
      "[3 4 5]\n"
     ]
    }
   ],
   "source": [
    "# Defining the arrays\n",
    "arr1 = np.array([1, 2, 3, 4, 5])\n",
    "arr2 = np.array([3, 4, 5, 6, 7])\n",
    "\n",
    "# Using np.intersect1d()\n",
    "intersect = np.intersect1d(arr1, arr2)\n",
    "print(intersect)"
   ]
  },
  {
   "cell_type": "markdown",
   "metadata": {},
   "source": [
    "\n",
    "## np.union1d()\n",
    "\n",
    "The `np.union1d()` function returns the sorted union of elements (i.e., all unique elements).\n"
   ]
  },
  {
   "cell_type": "code",
   "execution_count": 4,
   "metadata": {},
   "outputs": [
    {
     "name": "stdout",
     "output_type": "stream",
     "text": [
      "[1 2 3 4 5 6 7]\n"
     ]
    }
   ],
   "source": [
    "# Using np.union1d()\n",
    "union = np.union1d(arr1, arr2)\n",
    "print(union)"
   ]
  },
  {
   "cell_type": "markdown",
   "metadata": {},
   "source": [
    "\n",
    "## np.setdiff1d()\n",
    "\n",
    "The `np.setdiff1d()` function returns the sorted elements in array1 that are not in array2.\n"
   ]
  },
  {
   "cell_type": "code",
   "execution_count": 5,
   "metadata": {},
   "outputs": [
    {
     "name": "stdout",
     "output_type": "stream",
     "text": [
      "[1 2]\n"
     ]
    }
   ],
   "source": [
    "# Using np.setdiff1d()\n",
    "diff = np.setdiff1d(arr1, arr2)\n",
    "print(diff)"
   ]
  },
  {
   "cell_type": "markdown",
   "metadata": {},
   "source": [
    "\n",
    "## np.setxor1d()\n",
    "\n",
    "The `np.setxor1d()` function returns the sorted elements that are only in one (not both) of the input arrays.\n"
   ]
  },
  {
   "cell_type": "code",
   "execution_count": 6,
   "metadata": {},
   "outputs": [
    {
     "name": "stdout",
     "output_type": "stream",
     "text": [
      "[1 2 6 7]\n"
     ]
    }
   ],
   "source": [
    "# Using np.setxor1d()\n",
    "xor = np.setxor1d(arr1, arr2)\n",
    "print(xor)"
   ]
  },
  {
   "cell_type": "code",
   "execution_count": 10,
   "metadata": {},
   "outputs": [],
   "source": [
    "customers_january = np.array([100, 101, 102, 103, 104, 105, 106, 107, 108, 109, 110])\n",
    "customers_february = np.array([106, 107, 108, 111, 112, 113, 114, 115])"
   ]
  },
  {
   "cell_type": "code",
   "execution_count": 16,
   "metadata": {},
   "outputs": [
    {
     "name": "stdout",
     "output_type": "stream",
     "text": [
      "Unique customers IDs: [100 101 102 103 104 105 106 107 108 109 110 111 112 113 114 115]\n",
      "Number of unique customers: 16\n"
     ]
    }
   ],
   "source": [
    "# find unique elements in the array\n",
    "\n",
    "# Finding unique customer IDs across both moths\n",
    "all_customers = np.union1d(customers_january, customers_february)\n",
    "unique_customers = np.unique(all_customers)\n",
    "print('Unique customers IDs:', unique_customers)\n",
    "print('Number of unique customers:', len(unique_customers))"
   ]
  },
  {
   "cell_type": "code",
   "execution_count": 17,
   "metadata": {},
   "outputs": [
    {
     "name": "stdout",
     "output_type": "stream",
     "text": [
      "Common customers IDs: [106 107 108]\n",
      "Number of common customers: 3\n"
     ]
    }
   ],
   "source": [
    "# Finding common customer IDs across both moths\n",
    "common_customers = np.intersect1d(customers_january, customers_february)\n",
    "print('Common customers IDs:', common_customers)\n",
    "print('Number of common customers:', len(common_customers))"
   ]
  },
  {
   "cell_type": "code",
   "execution_count": 18,
   "metadata": {},
   "outputs": [
    {
     "name": "stdout",
     "output_type": "stream",
     "text": [
      "Lost customers IDs: [100 101 102 103 104 105 109 110]\n",
      "Number of lost customers: 8\n"
     ]
    }
   ],
   "source": [
    "# Finding customer IDs present in January but not in February\n",
    "lost_customers = np.setdiff1d(customers_january, customers_february)\n",
    "print('Lost customers IDs:', lost_customers)\n",
    "print('Number of lost customers:', len(lost_customers))"
   ]
  },
  {
   "cell_type": "markdown",
   "metadata": {},
   "source": [
    "\n",
    "These operations are a powerful way to compare datasets and identify similarities and differences. These are crucial operations in data preprocessing and data analysis."
   ]
  },
  {
   "attachments": {},
   "cell_type": "markdown",
   "metadata": {},
   "source": [
    "> Content created by [**Carlos Cruz-Maldonado**](https://www.linkedin.com/in/carloscruzmaldonado/).  \n",
    "> I am available to answer any questions or provide further assistance.   \n",
    "> Feel free to reach out to me at any time.  "
   ]
  }
 ],
 "metadata": {
  "kernelspec": {
   "display_name": "myenv",
   "language": "python",
   "name": "python3"
  },
  "language_info": {
   "codemirror_mode": {
    "name": "ipython",
    "version": 3
   },
   "file_extension": ".py",
   "mimetype": "text/x-python",
   "name": "python",
   "nbconvert_exporter": "python",
   "pygments_lexer": "ipython3",
   "version": "3.8.16"
  },
  "orig_nbformat": 4
 },
 "nbformat": 4,
 "nbformat_minor": 2
}
