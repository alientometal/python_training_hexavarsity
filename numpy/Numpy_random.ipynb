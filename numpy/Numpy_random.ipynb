{
 "cells": [
  {
   "attachments": {},
   "cell_type": "markdown",
   "metadata": {},
   "source": [
    "# NumPy Random Module\n",
    "\n",
    "The `numpy.random` module provides functions for generating random numbers for various distributions. This is extremely useful in a variety of circumstances, from simulating real-world data for testing, to initializing parameters in certain machine learning algorithms."
   ]
  },
  {
   "cell_type": "code",
   "execution_count": 1,
   "metadata": {},
   "outputs": [],
   "source": [
    "import numpy as np"
   ]
  },
  {
   "cell_type": "markdown",
   "metadata": {},
   "source": [
    "\n",
    "\n",
    "## np.random.rand()\n",
    "\n",
    "`np.random.rand()` generates uniformly distributed random numbers between 0 and 1. If no arguments are provided, a single float is returned. You can also specify the shape of the returned array by passing dimensions as arguments.\n",
    "\n"
   ]
  },
  {
   "cell_type": "code",
   "execution_count": 2,
   "metadata": {},
   "outputs": [
    {
     "name": "stdout",
     "output_type": "stream",
     "text": [
      "0.9750033756169868\n",
      "[0.16555704 0.22421255 0.62336029 0.43465871 0.0367092 ]\n",
      "[[0.68928648 0.05228279 0.62073997]\n",
      " [0.21256411 0.47748713 0.72582256]\n",
      " [0.16786841 0.9184573  0.22806281]]\n"
     ]
    }
   ],
   "source": [
    "# Single random number\n",
    "print(np.random.rand())\n",
    "\n",
    "# 1D array of random numbers\n",
    "print(np.random.rand(5))\n",
    "\n",
    "# 2D array of random numbers\n",
    "print(np.random.rand(3, 3))"
   ]
  },
  {
   "cell_type": "markdown",
   "metadata": {},
   "source": [
    "\n",
    "## np.random.randn()\n",
    "\n",
    "`np.random.randn()` generates random numbers from the standard normal distribution. Usage is similar to `np.random.rand()`.\n"
   ]
  },
  {
   "cell_type": "code",
   "execution_count": 3,
   "metadata": {},
   "outputs": [
    {
     "name": "stdout",
     "output_type": "stream",
     "text": [
      "-1.8001391163131617\n",
      "[-0.81040709 -0.76633356 -0.35134693  0.36647296  0.28378928]\n",
      "[[ 1.42069643  0.11279342 -0.88093649]\n",
      " [-0.12887352 -0.02079483 -0.1158043 ]\n",
      " [ 0.22221944  0.89420323 -0.60024783]]\n"
     ]
    }
   ],
   "source": [
    "# Single random number\n",
    "print(np.random.randn())\n",
    "\n",
    "# 1D array of random numbers\n",
    "print(np.random.randn(5))\n",
    "\n",
    "# 2D array of random numbers\n",
    "print(np.random.randn(3, 3))"
   ]
  },
  {
   "cell_type": "markdown",
   "metadata": {},
   "source": [
    "## np.random.randint()\n",
    "\n",
    "`np.random.randint()` generates random integers within a specified range.\n"
   ]
  },
  {
   "cell_type": "code",
   "execution_count": null,
   "metadata": {},
   "outputs": [],
   "source": [
    "[low, high)"
   ]
  },
  {
   "cell_type": "code",
   "execution_count": 112,
   "metadata": {},
   "outputs": [
    {
     "name": "stdout",
     "output_type": "stream",
     "text": [
      "watermelon\n"
     ]
    }
   ],
   "source": [
    "fruits = ['apple', 'banana', 'watermelon', 'cantaloupe' ]\n",
    "rand_int = np.random.randint(len(fruits))\n",
    "\n",
    "print(fruits[rand_int])"
   ]
  },
  {
   "cell_type": "code",
   "execution_count": 4,
   "metadata": {},
   "outputs": [
    {
     "name": "stdout",
     "output_type": "stream",
     "text": [
      "2\n",
      "6\n",
      "[0 9 6 3 3]\n"
     ]
    }
   ],
   "source": [
    "# Single random integer between 0 and 10\n",
    "print(np.random.randint(10))\n",
    "\n",
    "# Single random integer between 5 and 10\n",
    "print(np.random.randint(5, 10))\n",
    "\n",
    "# 1D array of random integers between 0 and 10\n",
    "print(np.random.randint(10, size=5))"
   ]
  },
  {
   "cell_type": "markdown",
   "metadata": {},
   "source": [
    "\n",
    "## np.random.choice()\n",
    "\n",
    "`np.random.choice()` generates a random sample from a given 1-D array.\n",
    "\n"
   ]
  },
  {
   "cell_type": "code",
   "execution_count": 146,
   "metadata": {},
   "outputs": [
    {
     "name": "stdout",
     "output_type": "stream",
     "text": [
      "2\n",
      "[2 2 5]\n"
     ]
    }
   ],
   "source": [
    "# Randomly select from a list of numbers\n",
    "print(np.random.choice([1, 2, 3, 4, 5]))\n",
    "\n",
    "# Randomly select multiple elements\n",
    "print(np.random.choice([1, 2, 3, 4, 5], size=3))\n"
   ]
  },
  {
   "cell_type": "code",
   "execution_count": 212,
   "metadata": {},
   "outputs": [
    {
     "data": {
      "text/plain": [
       "array(['banana', 'cantaloupe', 'watermelon'], dtype='<U10')"
      ]
     },
     "execution_count": 212,
     "metadata": {},
     "output_type": "execute_result"
    }
   ],
   "source": [
    "np.random.choice(fruits, size=3)"
   ]
  },
  {
   "cell_type": "markdown",
   "metadata": {},
   "source": [
    "\n",
    "## np.random.seed()\n",
    "\n",
    "`np.random.seed()` sets the random seed, allowing random processes to be reproduced.\n",
    "\n"
   ]
  },
  {
   "cell_type": "code",
   "execution_count": null,
   "metadata": {},
   "outputs": [],
   "source": [
    "np.random.seed(0)\n",
    "\n",
    "print(np.random.rand(5))"
   ]
  },
  {
   "cell_type": "markdown",
   "metadata": {},
   "source": [
    "\n",
    "## np.random.shuffle()\n",
    "\n",
    "`np.random.shuffle()` randomly rearranges elements in a 1-D array.\n",
    "\n"
   ]
  },
  {
   "cell_type": "code",
   "execution_count": 213,
   "metadata": {},
   "outputs": [
    {
     "name": "stdout",
     "output_type": "stream",
     "text": [
      "[3 4 5 1 2]\n"
     ]
    }
   ],
   "source": [
    "arr = np.array([1, 2, 3, 4, 5])\n",
    "np.random.shuffle(arr)\n",
    "print(arr)"
   ]
  },
  {
   "cell_type": "code",
   "execution_count": 250,
   "metadata": {},
   "outputs": [
    {
     "name": "stdout",
     "output_type": "stream",
     "text": [
      "[5 3 2 4 1]\n"
     ]
    }
   ],
   "source": [
    "np.random.shuffle(arr)\n",
    "print(arr)"
   ]
  },
  {
   "cell_type": "code",
   "execution_count": 252,
   "metadata": {},
   "outputs": [
    {
     "name": "stdout",
     "output_type": "stream",
     "text": [
      "[[0.35780051 0.4405747  0.44389253]\n",
      " [0.3024095  0.55432373 0.10271281]\n",
      " [0.43921671 0.60963618 0.07121813]]\n"
     ]
    }
   ],
   "source": [
    "arr2d = np.random.rand(3, 3)\n",
    "print(arr2d)"
   ]
  },
  {
   "cell_type": "code",
   "execution_count": 302,
   "metadata": {},
   "outputs": [
    {
     "name": "stdout",
     "output_type": "stream",
     "text": [
      "[[0.43921671 0.60963618 0.07121813]\n",
      " [0.3024095  0.55432373 0.10271281]\n",
      " [0.35780051 0.4405747  0.44389253]]\n"
     ]
    }
   ],
   "source": [
    "np.random.shuffle(arr2d)\n",
    "print(arr2d)"
   ]
  },
  {
   "cell_type": "markdown",
   "metadata": {},
   "source": [
    "\n",
    "These are just a few of the functions offered by the `numpy.random` module. It offers a robust and flexible way to generate random numbers from various distributions."
   ]
  },
  {
   "cell_type": "markdown",
   "metadata": {},
   "source": [
    "# Numpy Files"
   ]
  },
  {
   "cell_type": "code",
   "execution_count": 306,
   "metadata": {},
   "outputs": [
    {
     "data": {
      "text/plain": [
       "array([[0.43921671, 0.60963618, 0.07121813],\n",
       "       [0.3024095 , 0.55432373, 0.10271281],\n",
       "       [0.35780051, 0.4405747 , 0.44389253]])"
      ]
     },
     "execution_count": 306,
     "metadata": {},
     "output_type": "execute_result"
    }
   ],
   "source": [
    "# np.save() and np.load()\n",
    "\n",
    "# save array\n",
    "np.save('my_arrya.npy', arr2d)\n",
    "\n",
    "# load array\n",
    "np.load('my_arrya.npy')"
   ]
  },
  {
   "cell_type": "code",
   "execution_count": 313,
   "metadata": {},
   "outputs": [
    {
     "data": {
      "text/plain": [
       "array([[0.43921671, 0.60963618, 0.07121813],\n",
       "       [0.3024095 , 0.55432373, 0.10271281],\n",
       "       [0.35780051, 0.4405747 , 0.44389253]])"
      ]
     },
     "execution_count": 313,
     "metadata": {},
     "output_type": "execute_result"
    }
   ],
   "source": [
    "np.savetxt('my_array.txt', arr2d)\n",
    "\n",
    "np.loadtxt('my_array.txt')"
   ]
  },
  {
   "cell_type": "code",
   "execution_count": 314,
   "metadata": {},
   "outputs": [
    {
     "data": {
      "text/plain": [
       "array([[0.43921671, 0.60963618, 0.07121813],\n",
       "       [0.3024095 , 0.55432373, 0.10271281],\n",
       "       [0.35780051, 0.4405747 , 0.44389253]])"
      ]
     },
     "execution_count": 314,
     "metadata": {},
     "output_type": "execute_result"
    }
   ],
   "source": [
    "# np.savetxt() and np.loadtxt()\n",
    "\n",
    "np.savetxt('my_array.csv', arr2d, delimiter=',')\n",
    "\n",
    "np.loadtxt('my_array.csv', delimiter=',')"
   ]
  },
  {
   "cell_type": "code",
   "execution_count": 321,
   "metadata": {},
   "outputs": [],
   "source": [
    "# np.savez() and np.load()\n",
    "\n",
    "np.savez('my_multiple_arrays.npz', arr1=arr, arr2=arr2d)\n",
    "\n",
    "np.savez_compressed('my_multiple_arrays_compressed.npz', arr1=arr, arr2=arr2d)\n",
    "\n",
    "\n",
    "loaded_arrays = np.load('my_multiple_arrays.npz')"
   ]
  },
  {
   "cell_type": "code",
   "execution_count": 318,
   "metadata": {},
   "outputs": [
    {
     "data": {
      "text/plain": [
       "['arr1', 'arr2']"
      ]
     },
     "execution_count": 318,
     "metadata": {},
     "output_type": "execute_result"
    }
   ],
   "source": [
    "loaded_arrays.files"
   ]
  },
  {
   "cell_type": "code",
   "execution_count": 320,
   "metadata": {},
   "outputs": [
    {
     "data": {
      "text/plain": [
       "array([[0.43921671, 0.60963618, 0.07121813],\n",
       "       [0.3024095 , 0.55432373, 0.10271281],\n",
       "       [0.35780051, 0.4405747 , 0.44389253]])"
      ]
     },
     "execution_count": 320,
     "metadata": {},
     "output_type": "execute_result"
    }
   ],
   "source": [
    "loaded_arrays['arr2']"
   ]
  },
  {
   "attachments": {},
   "cell_type": "markdown",
   "metadata": {},
   "source": [
    "> Content created by [**Carlos Cruz-Maldonado**](https://www.linkedin.com/in/carloscruzmaldonado/).  \n",
    "> I am available to answer any questions or provide further assistance.   \n",
    "> Feel free to reach out to me at any time.  "
   ]
  }
 ],
 "metadata": {
  "kernelspec": {
   "display_name": "myenv",
   "language": "python",
   "name": "python3"
  },
  "language_info": {
   "codemirror_mode": {
    "name": "ipython",
    "version": 3
   },
   "file_extension": ".py",
   "mimetype": "text/x-python",
   "name": "python",
   "nbconvert_exporter": "python",
   "pygments_lexer": "ipython3",
   "version": "3.8.16"
  },
  "orig_nbformat": 4
 },
 "nbformat": 4,
 "nbformat_minor": 2
}
