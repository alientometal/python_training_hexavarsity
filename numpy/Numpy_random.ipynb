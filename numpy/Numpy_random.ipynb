{
 "cells": [
  {
   "attachments": {},
   "cell_type": "markdown",
   "metadata": {},
   "source": [
    "# NumPy Random Module\n",
    "\n",
    "The `numpy.random` module provides functions for generating random numbers for various distributions. This is extremely useful in a variety of circumstances, from simulating real-world data for testing, to initializing parameters in certain machine learning algorithms."
   ]
  },
  {
   "cell_type": "code",
   "execution_count": null,
   "metadata": {},
   "outputs": [],
   "source": [
    "import numpy as np"
   ]
  },
  {
   "cell_type": "markdown",
   "metadata": {},
   "source": [
    "\n",
    "\n",
    "## np.random.rand()\n",
    "\n",
    "`np.random.rand()` generates uniformly distributed random numbers between 0 and 1. If no arguments are provided, a single float is returned. You can also specify the shape of the returned array by passing dimensions as arguments.\n",
    "\n"
   ]
  },
  {
   "cell_type": "code",
   "execution_count": null,
   "metadata": {},
   "outputs": [],
   "source": [
    "# Single random number\n",
    "print(np.random.rand())\n",
    "\n",
    "# 1D array of random numbers\n",
    "print(np.random.rand(5))\n",
    "\n",
    "# 2D array of random numbers\n",
    "print(np.random.rand(3, 3))"
   ]
  },
  {
   "cell_type": "markdown",
   "metadata": {},
   "source": [
    "\n",
    "## np.random.randn()\n",
    "\n",
    "`np.random.randn()` generates random numbers from the standard normal distribution. Usage is similar to `np.random.rand()`.\n"
   ]
  },
  {
   "cell_type": "code",
   "execution_count": null,
   "metadata": {},
   "outputs": [],
   "source": [
    "# Single random number\n",
    "print(np.random.randn())\n",
    "\n",
    "# 1D array of random numbers\n",
    "print(np.random.randn(5))\n",
    "\n",
    "# 2D array of random numbers\n",
    "print(np.random.randn(3, 3))"
   ]
  },
  {
   "cell_type": "markdown",
   "metadata": {},
   "source": [
    "## np.random.randint()\n",
    "\n",
    "`np.random.randint()` generates random integers within a specified range.\n"
   ]
  },
  {
   "cell_type": "code",
   "execution_count": null,
   "metadata": {},
   "outputs": [],
   "source": [
    "# Single random integer between 0 and 10\n",
    "print(np.random.randint(10))\n",
    "\n",
    "# Single random integer between 5 and 10\n",
    "print(np.random.randint(5, 10))\n",
    "\n",
    "# 1D array of random integers between 0 and 10\n",
    "print(np.random.randint(10, size=5))"
   ]
  },
  {
   "cell_type": "markdown",
   "metadata": {},
   "source": [
    "\n",
    "## np.random.choice()\n",
    "\n",
    "`np.random.choice()` generates a random sample from a given 1-D array.\n",
    "\n"
   ]
  },
  {
   "cell_type": "code",
   "execution_count": null,
   "metadata": {},
   "outputs": [],
   "source": [
    "# Randomly select from a list of numbers\n",
    "print(np.random.choice([1, 2, 3, 4, 5]))\n",
    "\n",
    "# Randomly select multiple elements\n",
    "print(np.random.choice([1, 2, 3, 4, 5], size=3))\n"
   ]
  },
  {
   "cell_type": "markdown",
   "metadata": {},
   "source": [
    "\n",
    "## np.random.seed()\n",
    "\n",
    "`np.random.seed()` sets the random seed, allowing random processes to be reproduced.\n",
    "\n"
   ]
  },
  {
   "cell_type": "code",
   "execution_count": null,
   "metadata": {},
   "outputs": [],
   "source": [
    "np.random.seed(0)\n",
    "\n",
    "print(np.random.rand(5))"
   ]
  },
  {
   "cell_type": "markdown",
   "metadata": {},
   "source": [
    "\n",
    "## np.random.shuffle()\n",
    "\n",
    "`np.random.shuffle()` randomly rearranges elements in a 1-D array.\n",
    "\n"
   ]
  },
  {
   "cell_type": "code",
   "execution_count": null,
   "metadata": {},
   "outputs": [],
   "source": [
    "arr = np.array([1, 2, 3, 4, 5])\n",
    "np.random.shuffle(arr)\n",
    "print(arr)"
   ]
  },
  {
   "cell_type": "markdown",
   "metadata": {},
   "source": [
    "\n",
    "These are just a few of the functions offered by the `numpy.random` module. It offers a robust and flexible way to generate random numbers from various distributions."
   ]
  },
  {
   "attachments": {},
   "cell_type": "markdown",
   "metadata": {},
   "source": [
    "> Content created by [**Carlos Cruz-Maldonado**](https://www.linkedin.com/in/carloscruzmaldonado/).  \n",
    "> I am available to answer any questions or provide further assistance.   \n",
    "> Feel free to reach out to me at any time.  "
   ]
  }
 ],
 "metadata": {
  "language_info": {
   "name": "python"
  },
  "orig_nbformat": 4
 },
 "nbformat": 4,
 "nbformat_minor": 2
}
