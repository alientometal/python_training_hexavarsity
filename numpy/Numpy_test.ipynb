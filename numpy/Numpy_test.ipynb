{
 "cells": [
  {
   "attachments": {},
   "cell_type": "markdown",
   "metadata": {},
   "source": [
    "Numpy array dimensions can be represented and understood in terms of shape and size. Shape provides the dimensionality information while size provides the total number of elements in the array."
   ]
  },
  {
   "cell_type": "code",
   "execution_count": 1,
   "metadata": {},
   "outputs": [
    {
     "name": "stdout",
     "output_type": "stream",
     "text": [
      "1D Array:\n",
      "[1 2 3 4 5]\n",
      "Shape: (5,), Size: 5\n",
      "\n",
      "2D Array:\n",
      "[[1 2 3]\n",
      " [4 5 6]]\n",
      "Shape: (2, 3), Size: 6\n",
      "\n",
      "3D Array:\n",
      "[[[ 1  2  3]\n",
      "  [ 4  5  6]]\n",
      "\n",
      " [[ 7  8  9]\n",
      "  [10 11 12]]]\n",
      "Shape: (2, 2, 3), Size: 12\n",
      "\n"
     ]
    }
   ],
   "source": [
    "\n",
    "import numpy as np\n",
    "\n",
    "# Create a 1-dimensional array\n",
    "arr1d = np.array([1, 2, 3, 4, 5])\n",
    "print(f\"1D Array:\\n{arr1d}\\nShape: {arr1d.shape}, Size: {arr1d.size}\\n\")\n",
    "\n",
    "# Create a 2-dimensional array\n",
    "arr2d = np.array([[1, 2, 3], [4, 5, 6]])\n",
    "print(f\"2D Array:\\n{arr2d}\\nShape: {arr2d.shape}, Size: {arr2d.size}\\n\")\n",
    "\n",
    "# Create a 3-dimensional array\n",
    "arr3d = np.array([[[1, 2, 3], [4, 5, 6]], [[7, 8, 9], [10, 11, 12]]])\n",
    "print(f\"3D Array:\\n{arr3d}\\nShape: {arr3d.shape}, Size: {arr3d.size}\\n\")"
   ]
  },
  {
   "attachments": {},
   "cell_type": "markdown",
   "metadata": {},
   "source": [
    "\n",
    "However, visualizing multi-dimensional arrays can be challenging beyond 3 dimensions. You can certainly visualize up to 3D arrays with matplotlib, for example. For higher dimensions, you could use slices or projections or even use dimensionality reduction techniques to visualize them in 2D or 3D, but interpretation can become tricky.\n",
    "\n",
    "Here's how you can visualize a 2D array (think of it as an image or a heatmap):\n"
   ]
  },
  {
   "cell_type": "code",
   "execution_count": 2,
   "metadata": {},
   "outputs": [
    {
     "data": {
      "image/png": "[encoded data removed]",
      "text/plain": [
       "<Figure size 432x288 with 2 Axes>"
      ]
     },
     "metadata": {
      "needs_background": "light"
     },
     "output_type": "display_data"
    }
   ],
   "source": [
    "\n",
    "import matplotlib.pyplot as plt\n",
    "\n",
    "# Assuming we are visualizing the arr2d defined above\n",
    "plt.imshow(arr2d, cmap='viridis')\n",
    "plt.colorbar(label='Value')\n",
    "plt.title('2D Array Visualization')\n",
    "plt.show()\n"
   ]
  },
  {
   "attachments": {},
   "cell_type": "markdown",
   "metadata": {},
   "source": [
    "\n",
    "For a 3D array, we can visualize slices:"
   ]
  },
  {
   "cell_type": "code",
   "execution_count": 3,
   "metadata": {},
   "outputs": [
    {
     "data": {
      "image/png": "[encoded data removed]",
      "text/plain": [
       "<Figure size 432x288 with 2 Axes>"
      ]
     },
     "metadata": {
      "needs_background": "light"
     },
     "output_type": "display_data"
    }
   ],
   "source": [
    "\n",
    "# Slice along the third axis\n",
    "slice = arr3d[:, :, 0]\n",
    "plt.imshow(slice, cmap='viridis')\n",
    "plt.colorbar(label='Value')\n",
    "plt.title('3D Array Slice Visualization')\n",
    "plt.show()"
   ]
  },
  {
   "attachments": {},
   "cell_type": "markdown",
   "metadata": {},
   "source": [
    "\n",
    "Remember that these visualizations are best for understanding the data and may not be applicable or meaningful for all types of data, especially in a Data Engineering context."
   ]
  },
  {
   "cell_type": "code",
   "execution_count": 4,
   "metadata": {},
   "outputs": [
    {
     "name": "stdout",
     "output_type": "stream",
     "text": [
      "Pretty printing:\n",
      " [[0.549 0.715 0.603 0.545 0.424]\n",
      " [0.646 0.438 0.892 0.964 0.383]\n",
      " [0.792 0.529 0.568 0.926 0.071]\n",
      " [0.087 0.02  0.833 0.778 0.87 ]\n",
      " [0.979 0.799 0.461 0.781 0.118]]\n"
     ]
    }
   ],
   "source": [
    "# Create a random array\n",
    "np.random.seed(0)\n",
    "arr = np.random.random((5, 5))\n",
    "\n",
    "# Pretty print the array with precision 3 and suppress=True\n",
    "print(\"Pretty printing:\\n\", np.array2string(arr, precision=3, suppress_small=True))\n"
   ]
  },
  {
   "cell_type": "code",
   "execution_count": null,
   "metadata": {},
   "outputs": [],
   "source": []
  }
 ],
 "metadata": {
  "kernelspec": {
   "display_name": "personal",
   "language": "python",
   "name": "python3"
  },
  "language_info": {
   "codemirror_mode": {
    "name": "ipython",
    "version": 3
   },
   "file_extension": ".py",
   "mimetype": "text/x-python",
   "name": "python",
   "nbconvert_exporter": "python",
   "pygments_lexer": "ipython3",
   "version": "3.7.9"
  },
  "orig_nbformat": 4
 },
 "nbformat": 4,
 "nbformat_minor": 2
}
