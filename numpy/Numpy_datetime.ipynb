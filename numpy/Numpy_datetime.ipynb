{
 "cells": [
  {
   "attachments": {},
   "cell_type": "markdown",
   "metadata": {},
   "source": [
    "# NumPy Date and Time\n",
    "\n",
    "NumPy has powerful capabilities to work with dates and times. It provides the `datetime64` type that supports a wide range of dates and resolutions from 1 nanosecond to 1 year.\n"
   ]
  },
  {
   "cell_type": "code",
   "execution_count": 1,
   "metadata": {},
   "outputs": [],
   "source": [
    "import numpy as np"
   ]
  },
  {
   "attachments": {},
   "cell_type": "markdown",
   "metadata": {},
   "source": [
    "\n",
    "## Creating Dates\n",
    "\n",
    "You can create `datetime64` objects from strings. The string format is `'YYYY-MM-DD'` for dates:\n"
   ]
  },
  {
   "cell_type": "code",
   "execution_count": 2,
   "metadata": {},
   "outputs": [
    {
     "name": "stdout",
     "output_type": "stream",
     "text": [
      "2023-06-08\n"
     ]
    }
   ],
   "source": [
    "date = np.datetime64('2023-06-08')\n",
    "print(date)"
   ]
  },
  {
   "cell_type": "code",
   "execution_count": 3,
   "metadata": {},
   "outputs": [
    {
     "data": {
      "text/plain": [
       "numpy.datetime64"
      ]
     },
     "execution_count": 3,
     "metadata": {},
     "output_type": "execute_result"
    }
   ],
   "source": [
    "type(date)"
   ]
  },
  {
   "attachments": {},
   "cell_type": "markdown",
   "metadata": {},
   "source": [
    "\n",
    "## Time\n",
    "\n",
    "You can also create datetime objects that include time. The string format is `'YYYY-MM-DDThh:mm:ss'`:\n"
   ]
  },
  {
   "cell_type": "code",
   "execution_count": 4,
   "metadata": {},
   "outputs": [
    {
     "name": "stdout",
     "output_type": "stream",
     "text": [
      "2023-06-08T21:00:00\n"
     ]
    }
   ],
   "source": [
    "datetime = np.datetime64('2023-06-08T21:00:00')\n",
    "print(datetime)"
   ]
  },
  {
   "attachments": {},
   "cell_type": "markdown",
   "metadata": {},
   "source": [
    "\n",
    "Note the 'T' between the date and time; it is required.\n"
   ]
  },
  {
   "attachments": {},
   "cell_type": "markdown",
   "metadata": {},
   "source": [
    "\n",
    "## Date Range\n",
    "\n",
    "The `np.arange()` function works with dates. It's a great way to generate sequences of dates:\n"
   ]
  },
  {
   "cell_type": "code",
   "execution_count": 5,
   "metadata": {},
   "outputs": [
    {
     "name": "stdout",
     "output_type": "stream",
     "text": [
      "['2023-06-01' '2023-06-02' '2023-06-03' '2023-06-04' '2023-06-05'\n",
      " '2023-06-06' '2023-06-07' '2023-06-08' '2023-06-09' '2023-06-10'\n",
      " '2023-06-11' '2023-06-12' '2023-06-13' '2023-06-14' '2023-06-15'\n",
      " '2023-06-16' '2023-06-17' '2023-06-18' '2023-06-19' '2023-06-20'\n",
      " '2023-06-21' '2023-06-22' '2023-06-23' '2023-06-24' '2023-06-25'\n",
      " '2023-06-26' '2023-06-27' '2023-06-28' '2023-06-29' '2023-06-30']\n"
     ]
    }
   ],
   "source": [
    "dates = np.arange('2023-06', '2023-07', dtype='datetime64[D]')\n",
    "print(dates)"
   ]
  },
  {
   "attachments": {},
   "cell_type": "markdown",
   "metadata": {},
   "source": [
    "\n",
    "The 'D' means day date unit [source](https://numpy.org/doc/stable/reference/arrays.datetime.html#datetime-units). The result is an array of dates from June 1, 2023, to June 30, 2023.\n",
    "\n",
    "## Operations\n",
    "\n",
    "You can perform arithmetic operations with dates. For instance, you can calculate the number of days between two dates:\n"
   ]
  },
  {
   "cell_type": "code",
   "execution_count": 6,
   "metadata": {},
   "outputs": [
    {
     "name": "stdout",
     "output_type": "stream",
     "text": [
      "40 days\n"
     ]
    }
   ],
   "source": [
    "date1 = np.datetime64('2023-06-08')\n",
    "date2 = np.datetime64('2023-07-18')\n",
    "diff = date2 - date1\n",
    "print(diff)"
   ]
  },
  {
   "attachments": {},
   "cell_type": "markdown",
   "metadata": {},
   "source": [
    "\n",
    "This is a basic overview of NumPy's date and time functionality. There's a lot more to explore, such as timedeltas and business days calculations. Check out the [NumPy documentation](https://numpy.org/doc/stable/reference/arrays.datetime.html) for more details."
   ]
  },
  {
   "cell_type": "code",
   "execution_count": 11,
   "metadata": {},
   "outputs": [],
   "source": [
    "star_date = np.datetime64('2023-06-08')\n",
    "duration = np.timedelta64(40, \"D\") # 40 days\n"
   ]
  },
  {
   "cell_type": "code",
   "execution_count": 12,
   "metadata": {},
   "outputs": [],
   "source": [
    "end_date = star_date + duration "
   ]
  },
  {
   "cell_type": "code",
   "execution_count": 13,
   "metadata": {},
   "outputs": [
    {
     "name": "stdout",
     "output_type": "stream",
     "text": [
      "Project start date: 2023-06-08\n",
      "Project end date: 2023-07-18\n"
     ]
    }
   ],
   "source": [
    "print(\"Project start date:\", star_date)\n",
    "print(\"Project end date:\", end_date)"
   ]
  },
  {
   "cell_type": "code",
   "execution_count": 15,
   "metadata": {},
   "outputs": [
    {
     "name": "stdout",
     "output_type": "stream",
     "text": [
      "Project Timeline:\n",
      "['2023-06-08' '2023-06-09' '2023-06-10' '2023-06-11' '2023-06-12'\n",
      " '2023-06-13' '2023-06-14' '2023-06-15' '2023-06-16' '2023-06-17'\n",
      " '2023-06-18' '2023-06-19' '2023-06-20' '2023-06-21' '2023-06-22'\n",
      " '2023-06-23' '2023-06-24' '2023-06-25' '2023-06-26' '2023-06-27'\n",
      " '2023-06-28' '2023-06-29' '2023-06-30' '2023-07-01' '2023-07-02'\n",
      " '2023-07-03' '2023-07-04' '2023-07-05' '2023-07-06' '2023-07-07'\n",
      " '2023-07-08' '2023-07-09' '2023-07-10' '2023-07-11' '2023-07-12'\n",
      " '2023-07-13' '2023-07-14' '2023-07-15' '2023-07-16' '2023-07-17']\n"
     ]
    }
   ],
   "source": [
    "all_days = np.arange(star_date, end_date, dtype='datetime64[D]')\n",
    "print(\"Project Timeline:\")\n",
    "print(all_days)"
   ]
  },
  {
   "attachments": {},
   "cell_type": "markdown",
   "metadata": {},
   "source": [
    "> Content created by [**Carlos Cruz-Maldonado**](https://www.linkedin.com/in/carloscruzmaldonado/).  \n",
    "> I am available to answer any questions or provide further assistance.   \n",
    "> Feel free to reach out to me at any time."
   ]
  }
 ],
 "metadata": {
  "kernelspec": {
   "display_name": "personal",
   "language": "python",
   "name": "python3"
  },
  "language_info": {
   "codemirror_mode": {
    "name": "ipython",
    "version": 3
   },
   "file_extension": ".py",
   "mimetype": "text/x-python",
   "name": "python",
   "nbconvert_exporter": "python",
   "pygments_lexer": "ipython3",
   "version": "3.8.16"
  },
  "orig_nbformat": 4
 },
 "nbformat": 4,
 "nbformat_minor": 2
}
