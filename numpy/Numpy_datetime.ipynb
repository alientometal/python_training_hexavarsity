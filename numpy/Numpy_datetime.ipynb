{
 "cells": [
  {
   "attachments": {},
   "cell_type": "markdown",
   "metadata": {},
   "source": [
    "# NumPy Date and Time\n",
    "\n",
    "NumPy has powerful capabilities to work with dates and times. It provides the `datetime64` type that supports a wide range of dates and resolutions from 1 nanosecond to 1 year.\n"
   ]
  },
  {
   "cell_type": "code",
   "execution_count": null,
   "metadata": {},
   "outputs": [],
   "source": [
    "import numpy as np"
   ]
  },
  {
   "attachments": {},
   "cell_type": "markdown",
   "metadata": {},
   "source": [
    "\n",
    "## Creating Dates\n",
    "\n",
    "You can create `datetime64` objects from strings. The string format is `'YYYY-MM-DD'` for dates:\n"
   ]
  },
  {
   "cell_type": "code",
   "execution_count": null,
   "metadata": {},
   "outputs": [],
   "source": [
    "date = np.datetime64('2023-06-08')\n",
    "print(date)"
   ]
  },
  {
   "attachments": {},
   "cell_type": "markdown",
   "metadata": {},
   "source": [
    "\n",
    "## Time\n",
    "\n",
    "You can also create datetime objects that include time. The string format is `'YYYY-MM-DDThh:mm:ss'`:\n"
   ]
  },
  {
   "cell_type": "code",
   "execution_count": null,
   "metadata": {},
   "outputs": [],
   "source": [
    "datetime = np.datetime64('2023-06-08T21:00:00')\n",
    "print(datetime)"
   ]
  },
  {
   "attachments": {},
   "cell_type": "markdown",
   "metadata": {},
   "source": [
    "\n",
    "Note the 'T' between the date and time; it is required.\n"
   ]
  },
  {
   "attachments": {},
   "cell_type": "markdown",
   "metadata": {},
   "source": [
    "\n",
    "## Date Range\n",
    "\n",
    "The `np.arange()` function works with dates. It's a great way to generate sequences of dates:\n"
   ]
  },
  {
   "cell_type": "code",
   "execution_count": null,
   "metadata": {},
   "outputs": [],
   "source": [
    "dates = np.arange('2023-06', '2023-07', dtype='datetime64[D]')\n",
    "print(dates)"
   ]
  },
  {
   "attachments": {},
   "cell_type": "markdown",
   "metadata": {},
   "source": [
    "\n",
    "The 'D' means day date unit [source](https://numpy.org/doc/stable/reference/arrays.datetime.html#datetime-units). The result is an array of dates from June 1, 2023, to June 30, 2023.\n",
    "\n",
    "## Operations\n",
    "\n",
    "You can perform arithmetic operations with dates. For instance, you can calculate the number of days between two dates:\n"
   ]
  },
  {
   "cell_type": "code",
   "execution_count": null,
   "metadata": {},
   "outputs": [],
   "source": [
    "date1 = np.datetime64('2023-06-08')\n",
    "date2 = np.datetime64('2023-07-18')\n",
    "diff = date2 - date1\n",
    "print(diff)"
   ]
  },
  {
   "attachments": {},
   "cell_type": "markdown",
   "metadata": {},
   "source": [
    "\n",
    "This is a basic overview of NumPy's date and time functionality. There's a lot more to explore, such as timedeltas and business days calculations. Check out the [NumPy documentation](https://numpy.org/doc/stable/reference/arrays.datetime.html) for more details."
   ]
  },
  {
   "attachments": {},
   "cell_type": "markdown",
   "metadata": {},
   "source": [
    "> Content created by [**Carlos Cruz-Maldonado**](https://www.linkedin.com/in/carloscruzmaldonado/).  \n",
    "> I am available to answer any questions or provide further assistance.   \n",
    "> Feel free to reach out to me at any time."
   ]
  }
 ],
 "metadata": {
  "kernelspec": {
   "display_name": "personal",
   "language": "python",
   "name": "python3"
  },
  "language_info": {
   "codemirror_mode": {
    "name": "ipython",
    "version": 3
   },
   "file_extension": ".py",
   "mimetype": "text/x-python",
   "name": "python",
   "nbconvert_exporter": "python",
   "pygments_lexer": "ipython3",
   "version": "3.7.9"
  },
  "orig_nbformat": 4
 },
 "nbformat": 4,
 "nbformat_minor": 2
}
