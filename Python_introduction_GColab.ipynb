{
 "cells": [
  {
   "attachments": {},
   "cell_type": "markdown",
   "metadata": {},
   "source": [
    "# Google Colaboratory\n",
    "Google Colaboratory ([colab.research.google.com](colab.research.google.com)), also known as Google Colab, is a free online platform for developing, running and sharing Jupyter notebooks that runs in the cloud. I provides an already set-up Jupyter notebook environment you can use for machine learning, data analysis and scientific computing.\n",
    "\n",
    "Here are the steps to use the Jupyter notebook in Google Colab through our course:\n",
    "1. Go to [PythonTraining_Hexavarsity]([colab.research.google.com](https://colab.research.google.com/github/alientometal/PythonTraining_26-06-2023)) and sign in to your Google account.\n",
    "2. Click on\n",
    "3. Write and run your code in the notebook cells. You can add code cells by clicking on the \"Code\" button in the toolbar or by using the shortcut `Ctrl` + `m` then `b`.\n",
    "4. You can also add text, images, and other media to your notebook by adding [Markdown](https://jupyter-notebook.readthedocs.io/en/stable/examples/Notebook/Working%20With%20Markdown%20Cells.html) cells.\n",
    "5. You can run a code cell by clicking on the \"Play\" button in the toolbar or by using the shortcut `Ctrl` + `Enter`.\n",
    "6. To install packages, use the !pip install command, for example `!pip install numpy`.\n",
    "7. To save your work, click on the \"File\" menu and then \"Save a copy in Drive.\" You can also download the notebook in various formats, including `.ipynb` and `.py`.\n",
    "8. To share your notebook, click on \"File\" and then \"Share.\" You can give access to specific people or make it public.\n",
    "\n",
    "\n",
    "**Note:** Google Colab provides temporary virtual machines with a GPU or TPU, so you can run your code on these high-performance devices. (You can select the runtime type by clicking on \"Runtime\" and then \"Change runtime type.\")  \n",
    "Keep in mind that the data and computations you run in Google Colab are stored on Google's servers, so make sure you are aware of their privacy policy."
   ]
  }
 ],
 "metadata": {
  "kernelspec": {
   "display_name": "Python 3.7.9 ('personal')",
   "language": "python",
   "name": "python3"
  },
  "language_info": {
   "codemirror_mode": {
    "name": "ipython",
    "version": 3
   },
   "file_extension": ".py",
   "mimetype": "text/x-python",
   "name": "python",
   "nbconvert_exporter": "python",
   "pygments_lexer": "ipython3",
   "version": "3.7.9"
  },
  "orig_nbformat": 4,
  "vscode": {
   "interpreter": {
    "hash": "252948c43895fb2cefa730c41b16e760efc56873c993d09cfc8bab107a8b51fd"
   }
  }
 },
 "nbformat": 4,
 "nbformat_minor": 2
}
